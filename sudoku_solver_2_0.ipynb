{
  "nbformat": 4,
  "nbformat_minor": 0,
  "metadata": {
    "colab": {
      "provenance": [],
      "authorship_tag": "ABX9TyMqLFV4mdM2lu+b2p60mW2i",
      "include_colab_link": true
    },
    "kernelspec": {
      "name": "python3",
      "display_name": "Python 3"
    },
    "language_info": {
      "name": "python"
    }
  },
  "cells": [
    {
      "cell_type": "markdown",
      "metadata": {
        "id": "view-in-github",
        "colab_type": "text"
      },
      "source": [
        "<a href=\"https://colab.research.google.com/github/eladses/sudoku-solver/blob/main/sudoku_solver_2_0.ipynb\" target=\"_parent\"><img src=\"https://colab.research.google.com/assets/colab-badge.svg\" alt=\"Open In Colab\"/></a>"
      ]
    },
    {
      "cell_type": "markdown",
      "source": [
        "# Introduction\n",
        "\n",
        "sudoku solver using openCV, pytesseract and py-sudoku to find solution of sudoku from image\n",
        "\n",
        "---\n",
        "\n",
        "**How To Use**\n",
        "\n",
        "1. upload image\n",
        "2. run imports\n",
        "3. run algorethms\n",
        "\n",
        "---\n",
        "\n",
        "**How It Works**\n",
        "\n",
        "1. extraction board\n",
        "  1. finding biggest  \n",
        "  2. bla bla\n",
        "2. filtering cells\n",
        "  1. bla bla\n",
        "  2. more bla\n"
      ],
      "metadata": {
        "id": "qx6NrSbm7rWy"
      }
    },
    {
      "cell_type": "markdown",
      "source": [
        "# Upload"
      ],
      "metadata": {
        "id": "JrTGRPGNB-5t"
      }
    },
    {
      "cell_type": "code",
      "source": [
        "sudoku_url = 'https://www.google.com/search?q=sudoku+from+newspaper&sca_esv=abf976e12d8dcb8e&sca_upv=1&udm=2&biw=1920&bih=911&sxsrf=ADLYWIKsYXvSNuKkCf2_JK5OwxPZg1t-lg%3A1715267377075&ei=Mec8Zu6gBOz1i-gPiPCJuAY&oq=sudoku+from+&gs_lp=Egxnd3Mtd2l6LXNlcnAiDHN1ZG9rdSBmcm9tICoCCAAyBRAAGIAEMgcQABiABBgYMgcQABiABBgYSOcvUJ0UWNAkcAF4AJABAJgBggGgAZoLqgEEMC4xMrgBA8gBAPgBAZgCDaACvwvCAgQQIxgnwgIKEAAYgAQYQxiKBcICDhAAGIAEGLEDGIMBGIoFwgIIEAAYgAQYsQOYAwCIBgGSBwQxLjEyoAe-Ow&sclient=gws-wiz-serp#vhid=1C_w0RtkfCNCuM&vssid=mosaic'"
      ],
      "metadata": {
        "id": "hwingBiGCDX7"
      },
      "execution_count": null,
      "outputs": []
    },
    {
      "cell_type": "markdown",
      "source": [
        "# Imports"
      ],
      "metadata": {
        "id": "uJBffQIDAFdz"
      }
    },
    {
      "cell_type": "code",
      "execution_count": null,
      "metadata": {
        "id": "XCdk-SUr7Fzw"
      },
      "outputs": [],
      "source": [
        "!sudo apt install tesseract-ocr\n",
        "!pip install pytesseract\n",
        "!pip install py-sudoku\n",
        "!pip install opencv-python"
      ]
    },
    {
      "cell_type": "code",
      "source": [
        "from sudoku import Sudoku\n",
        "\n",
        "import pytesseract\n",
        "# pytesseract.pytesseract.tesseract_cmd = (\n",
        "#     r'/usr/bin/tesseract'\n",
        "# )\n",
        "\n",
        "from PIL import Image\n",
        "\n",
        "import numpy as np\n",
        "\n",
        "from imutils import contours\n",
        "import cv2\n",
        "from google.colab.patches import cv2_imshow\n",
        "\n",
        "from tensorflow import keras\n",
        "import matplotlib.pyplot as plt\n",
        "\n",
        "\n",
        "# from PIL import Image"
      ],
      "metadata": {
        "id": "jVZ_JssPAZwh"
      },
      "execution_count": null,
      "outputs": []
    },
    {
      "cell_type": "markdown",
      "source": [
        "# computer vision function"
      ],
      "metadata": {
        "id": "p-Dh6a0FAk8Y"
      }
    },
    {
      "cell_type": "code",
      "source": [
        "# prompt: read url from usr and upload image\n",
        "\n",
        "!wget -O sudoku.jpg $sudoku_url\n"
      ],
      "metadata": {
        "colab": {
          "base_uri": "https://localhost:8080/"
        },
        "id": "4UCwsU4aA0Th",
        "outputId": "63139953-0343-40f6-e499-dc2b2bd44632"
      },
      "execution_count": null,
      "outputs": [
        {
          "output_type": "stream",
          "name": "stdout",
          "text": [
            "--2024-05-09 15:46:20--  https://www.google.com/search?q=sudoku+from+newspaper\n",
            "Resolving www.google.com (www.google.com)... 74.125.204.105, 74.125.204.104, 74.125.204.99, ...\n",
            "Connecting to www.google.com (www.google.com)|74.125.204.105|:443... connected.\n",
            "HTTP request sent, awaiting response... 403 Forbidden\n",
            "2024-05-09 15:46:21 ERROR 403: Forbidden.\n",
            "\n"
          ]
        }
      ]
    }
  ]
}