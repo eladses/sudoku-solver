{
  "nbformat": 4,
  "nbformat_minor": 0,
  "metadata": {
    "colab": {
      "provenance": [],
      "collapsed_sections": [
        "uJBffQIDAFdz",
        "JrTGRPGNB-5t",
        "_TJ8cpaVMB18"
      ],
      "authorship_tag": "ABX9TyPDN8XQ2DNCNS+QpYco1Q/E",
      "include_colab_link": true
    },
    "kernelspec": {
      "name": "python3",
      "display_name": "Python 3"
    },
    "language_info": {
      "name": "python"
    }
  },
  "cells": [
    {
      "cell_type": "markdown",
      "metadata": {
        "id": "view-in-github",
        "colab_type": "text"
      },
      "source": [
        "<a href=\"https://colab.research.google.com/github/eladses/sudoku-solver/blob/main/sudoku_solver_2_0.ipynb\" target=\"_parent\"><img src=\"https://colab.research.google.com/assets/colab-badge.svg\" alt=\"Open In Colab\"/></a>"
      ]
    },
    {
      "cell_type": "markdown",
      "source": [
        "# Introduction\n",
        "\n",
        "**in development!! not done**\n",
        "\n",
        "sudoku solver using openCV, pytesseract and py-sudoku to find solution of sudoku from image\n",
        "\n",
        "---\n",
        "\n",
        "**How To Use**\n",
        "\n",
        "1. upload image\n",
        "2. run imports\n",
        "3. run functions\n",
        "4. run algorethms\n",
        "\n",
        "---\n",
        "\n",
        "**How It Works**\n",
        "\n",
        "1. extraction board\n",
        "  1. finding biggest square\n",
        "  2.\n",
        "2. filtering cells\n",
        "  1.\n",
        "  2.\n"
      ],
      "metadata": {
        "id": "qx6NrSbm7rWy"
      }
    },
    {
      "cell_type": "markdown",
      "source": [
        "# Imports"
      ],
      "metadata": {
        "id": "uJBffQIDAFdz"
      }
    },
    {
      "cell_type": "code",
      "execution_count": null,
      "metadata": {
        "id": "XCdk-SUr7Fzw"
      },
      "outputs": [],
      "source": [
        "!sudo apt install tesseract-ocr\n",
        "!pip install pytesseract\n",
        "!pip install py-sudoku\n",
        "!pip install opencv-python"
      ]
    },
    {
      "cell_type": "code",
      "source": [
        "import numpy as np\n",
        "import cv2\n",
        "\n",
        "from imutils import contours\n",
        "from google.colab.patches import cv2_imshow\n",
        "\n",
        "from sudoku import Sudoku\n",
        "\n",
        "from PIL import Image\n",
        "import requests\n",
        "\n",
        "import pytesseract\n",
        "# pytesseract.pytesseract.tesseract_cmd = (\n",
        "#     r'/usr/bin/tesseract'\n",
        "# )\n",
        "\n",
        "from tensorflow import keras\n",
        "import matplotlib.pyplot as plt"
      ],
      "metadata": {
        "id": "jVZ_JssPAZwh"
      },
      "execution_count": null,
      "outputs": []
    },
    {
      "cell_type": "markdown",
      "source": [
        "# Upload"
      ],
      "metadata": {
        "id": "JrTGRPGNB-5t"
      }
    },
    {
      "cell_type": "code",
      "source": [
        "sudoku_url = 'https://i.redd.it/y4f37ifec7aa1.jpg'\n",
        "img = np.array(Image.open(requests.get(sudoku_url, stream=True).raw))[:, :, ::-1].copy()"
      ],
      "metadata": {
        "id": "hwingBiGCDX7"
      },
      "execution_count": null,
      "outputs": []
    },
    {
      "cell_type": "code",
      "source": [
        "cv2_imshow(img)"
      ],
      "metadata": {
        "id": "rBZNYJwNLCxG"
      },
      "execution_count": null,
      "outputs": []
    },
    {
      "cell_type": "markdown",
      "source": [
        "# computer vision functions"
      ],
      "metadata": {
        "id": "p-Dh6a0FAk8Y"
      }
    },
    {
      "cell_type": "code",
      "source": [
        "def get_board(img):\n",
        "    \"\"\"corpes the board from image\n",
        "\n",
        "    Args:\n",
        "      img (cv2 image format) - the image of the sudocu\n",
        "\n",
        "    Returns:\n",
        "      board_img (cv2 image format) - the board corped for the image\n",
        "    \"\"\"\n",
        "    gray=cv2.cvtColor(img, cv2.COLOR_BGR2GRAY )\n",
        "    ret,thresh = cv2.threshold(gray,100,255,cv2.THRESH_BINARY_INV)\n",
        "    contours, hierarchy = cv2.findContours(thresh, cv2.RETR_TREE, cv2.CHAIN_APPROX_NONE)\n",
        "    page = sorted(contours, key=cv2.contourArea, reverse=True)[:5]\n",
        "\n",
        "    if len(contours) != 0:\n",
        "\n",
        "        # find the biggest countour (c) by the area\n",
        "        c = max(contours, key = cv2.contourArea)\n",
        "        epsilon = 0.1 * cv2.arcLength(c, True)\n",
        "        corners = cv2.approxPolyDP(c, epsilon, True)\n",
        "        # If our approximated contour has four points\n",
        "        # draw the biggest contour (c) in green\n",
        "\n",
        "\n",
        "    def order_points(pts):\n",
        "        '''Rearrange coordinates to order:\n",
        "          top-left, top-right, bottom-right, bottom-left'''\n",
        "        rect = np.zeros((4, 2), dtype='float32')\n",
        "        pts = np.array(pts)\n",
        "        s = pts.sum(axis=1)\n",
        "        # Top-left point will have the smallest sum.\n",
        "        rect[0] = pts[np.argmin(s)]\n",
        "        # Bottom-right point will have the largest sum.\n",
        "        rect[2] = pts[np.argmax(s)]\n",
        "\n",
        "        diff = np.diff(pts, axis=1)\n",
        "        # Top-right point will have the smallest difference.\n",
        "        rect[3] = pts[np.argmin(diff)]\n",
        "        # Bottom-left will have the largest difference.\n",
        "        rect[1] = pts[np.argmax(diff)]\n",
        "        # return the ordered coordinates\n",
        "        return rect.astype('int').tolist()\n",
        "\n",
        "\n",
        "    pt_A,pt_B,pt_C,pt_D=order_points([corners[0][0],corners[1][0],corners[2][0],corners[3][0]])\n",
        "\n",
        "    # Here, I have used L2 norm. You can use L1 also.\n",
        "    width_AD = np.sqrt(((pt_A[0] - pt_D[0]) ** 2) + ((pt_A[1] - pt_D[1]) ** 2))\n",
        "    width_BC = np.sqrt(((pt_B[0] - pt_C[0]) ** 2) + ((pt_B[1] - pt_C[1]) ** 2))\n",
        "    maxWidth = max(int(width_AD), int(width_BC))\n",
        "\n",
        "\n",
        "    height_AB = np.sqrt(((pt_A[0] - pt_B[0]) ** 2) + ((pt_A[1] - pt_B[1]) ** 2))\n",
        "    height_CD = np.sqrt(((pt_C[0] - pt_D[0]) ** 2) + ((pt_C[1] - pt_D[1]) ** 2))\n",
        "    maxHeight = max(int(height_AB), int(height_CD))\n",
        "\n",
        "    input_pts = np.float32([pt_A, pt_B, pt_C, pt_D])\n",
        "    output_pts = np.float32([[0, 0],\n",
        "                            [0, maxHeight - 1],\n",
        "                            [maxWidth - 1, maxHeight - 1],\n",
        "                            [maxWidth - 1, 0]])\n",
        "\n",
        "    # Getting the homography.\n",
        "    M = cv2.getPerspectiveTransform(input_pts,output_pts)\n",
        "\n",
        "    return cv2.warpPerspective(img,M,(maxWidth, maxHeight),flags=cv2.INTER_LINEAR)"
      ],
      "metadata": {
        "id": "4UCwsU4aA0Th"
      },
      "execution_count": null,
      "outputs": []
    },
    {
      "cell_type": "code",
      "source": [
        "def remove_small_contours(img,small_area=1000):\n",
        "  \"\"\"this founction remove small countours from the image. used to remove the numbers\n",
        "\n",
        "  Args:\n",
        "    img (cv2 image format)\n",
        "\n",
        "  Returns:\n",
        "    img (cv2 image format)\n",
        "  \"\"\"\n",
        "\n",
        "  mask = np.zeros(img.shape[:2], dtype=img.dtype)\n",
        "  cnts, _ = cv2.findContours(img, cv2.RETR_TREE, cv2.CHAIN_APPROX_SIMPLE)\n",
        "  for c in cnts:\n",
        "      area = cv2.contourArea(c)\n",
        "      if area < small_area:\n",
        "        x, y, w, h = cv2.boundingRect(c)\n",
        "        cv2.drawContours(mask, [c], 0, (255), -1)\n",
        "\n",
        "  return img-mask\n",
        "\n",
        "\n",
        "def get_cells(board_img,board_lines_mask):\n",
        "    \"\"\"corpes the cells from the board\n",
        "\n",
        "    Args:\n",
        "      board_img (cv2 image format) - board\n",
        "      board_lines_mask (cv2 image format) - board lines\n",
        "\n",
        "    Returns:\n",
        "      board_img (cv2 image format) - the board corped for the image\n",
        "    \"\"\"\n",
        "\n",
        "    invert = 255 - board_lines_mask\n",
        "    cnts,_ = cv2.findContours(invert, cv2.RETR_EXTERNAL, cv2.CHAIN_APPROX_SIMPLE)\n",
        "    # (cnts, _) = contours.sort_contours(cnts, method=\"top-to-bottom\")\n",
        "\n",
        "    newBoard = board.copy()\n",
        "    rectangles=[]\n",
        "    for c in cnts:\n",
        "      if(cv2.contourArea(c)<0**2): continue\n",
        "      x,y,w,h = cv2.boundingRect(c)\n",
        "      if(w<board_img.shape[0]/18 or h<board_img.shape[1]/18): continue\n",
        "      # print(cv2.boundingRect(c))\n",
        "      rectangles.append(cv2.boundingRect(c))\n",
        "    # for rectangle in rectangles:\n",
        "    #   cv2_imshow(board[rectangle[0]:(rectangle[0] + rectangle[2]),rectangle[1]:(rectangle[1]+ rectangle[3])])\n",
        "\n",
        "    a,b,_=board_img.shape\n",
        "\n",
        "    rectangles = sorted(rectangles, key=lambda x: int((int((x[1])/int(a/18))+1)/2) * 100 + int((int((x[0])/int(b/18))+1)/2))\n",
        "    # print(rectangles)\n",
        "    # for i in range(len(rectangles)):\n",
        "      # rect = rectangles[i]\n",
        "      # print(i,rect,end=\": \")\n",
        "      # print(int(rect[0]/a*9)/100+int(rect[1]/b*9))\n",
        "    # i=0\n",
        "    # for c in rectangles:\n",
        "    #   x,y,w,h=c\n",
        "    #   cv2.rectangle(newBoard, (x, y), (x + w, y + h), (255,0,0), 1)\n",
        "    #   cv2.putText(newBoard, str(i), (x,y+h),cv2.FONT_HERSHEY_SIMPLEX,1,(0,255,0),2,cv2.LINE_AA)\n",
        "    #   i+=1\n",
        "\n",
        "    # cv2_imshow(newBoard)\n",
        "\n",
        "    if len(rectangles)!=81:\n",
        "      return\n",
        "\n",
        "    return rectangles\n",
        "\n",
        "\n"
      ],
      "metadata": {
        "id": "qRVMMULeUZr0"
      },
      "execution_count": null,
      "outputs": []
    },
    {
      "cell_type": "code",
      "source": [
        "def get_cell_content(cell):\n",
        "\n",
        "  cell_copy = cell.copy()\n",
        "  gray = cv2.cvtColor(cell, cv2.COLOR_BGR2GRAY)\n",
        "  blur = cv2.GaussianBlur(gray,(9,9),0)\n",
        "  ret,thresh1 = cv2.threshold(blur,127,255,cv2.THRESH_BINARY_INV)\n",
        "\n",
        "  contours, hierarchy = cv2.findContours(thresh1, cv2.RETR_EXTERNAL,\n",
        "                                                  cv2.CHAIN_APPROX_NONE)\n",
        "\n",
        "  for cnt in contours:\n",
        "    if(cv2.contourArea(cnt)<cell.shape[0]*cell.shape[0]/30):\n",
        "      continue\n",
        "    x, y, w, h = cv2.boundingRect(cnt)\n",
        "\n",
        "    # Drawing a rectangle on copied image\n",
        "    # rect = cv2.rectangle(cell_copy, (x, y), (x + w, y + h), (0, 255, 0), 2)\n",
        "\n",
        "    # Cropping the text block for giving input to OCR\n",
        "    cropped = cell_copy[y:y + h, x:x + w]\n",
        "\n",
        "    # Open the file in append mode\n",
        "    cv2_imshow(cropped)\n",
        "    # Apply OCR on the cropped image\n",
        "    text = pytesseract.image_to_string(cropped)\n",
        "    print(text)\n",
        "    if text: return text\n",
        "  return None"
      ],
      "metadata": {
        "id": "WEabuIRKILeK"
      },
      "execution_count": null,
      "outputs": []
    },
    {
      "cell_type": "markdown",
      "metadata": {
        "id": "_TJ8cpaVMB18"
      },
      "source": [
        "# sudoku functions"
      ]
    },
    {
      "cell_type": "code",
      "execution_count": null,
      "metadata": {
        "id": "pzqG_v_XI7k8"
      },
      "outputs": [],
      "source": [
        "puzzle = Sudoku(3).difficulty(0.5)\n",
        "def load_sudoku(board):\n",
        "  return Sudoku(3, 3, board=board)\n",
        "def solve_sudoku(sudoku):\n",
        "  return puzzle.solve()"
      ]
    },
    {
      "cell_type": "code",
      "execution_count": null,
      "metadata": {
        "id": "-3WdjjEcI9b2"
      },
      "outputs": [],
      "source": [
        "game = load_sudoku(puzzle.board)\n",
        "print(game.board)\n",
        "print(solve_sudoku(game).board)"
      ]
    },
    {
      "cell_type": "markdown",
      "source": [
        "# Program"
      ],
      "metadata": {
        "id": "mxTCQ2GBMAXl"
      }
    },
    {
      "cell_type": "code",
      "source": [
        "cv2_imshow(img)"
      ],
      "metadata": {
        "id": "LDCd5ys7yoJe"
      },
      "execution_count": null,
      "outputs": []
    },
    {
      "cell_type": "code",
      "source": [
        "# crop board\n",
        "board=get_board(img)\n",
        "cv2_imshow(board)"
      ],
      "metadata": {
        "id": "ieJy9io9MkOO"
      },
      "execution_count": null,
      "outputs": []
    },
    {
      "cell_type": "code",
      "source": [
        "# get board lines\n",
        "board_gray = cv2.cvtColor(board, cv2.COLOR_RGB2GRAY)\n",
        "_,board_thresh = cv2.threshold(board_gray,150,255,cv2.THRESH_BINARY_INV)\n",
        "board_clean = remove_small_contours(board_thresh,board_thresh.shape[0]*board_thresh.shape[1]/9)\n",
        "\n",
        "kernel = np.ones((5, 5), np.uint8)\n",
        "dilated_mask = cv2.dilate(board_clean, kernel, iterations=1)\n",
        "cv2_imshow(dilated_mask)"
      ],
      "metadata": {
        "id": "aoLnfUNKO_rN"
      },
      "execution_count": null,
      "outputs": []
    },
    {
      "cell_type": "code",
      "source": [
        "rectangles=get_cells(board,dilated_mask)\n",
        "\n",
        "cells=[board[y:y+ h,x:x + w] for (x,y,w,h) in rectangles]"
      ],
      "metadata": {
        "id": "cxJmeiOkOLf9"
      },
      "execution_count": null,
      "outputs": []
    },
    {
      "cell_type": "code",
      "source": [
        "board_copy=board.copy()\n",
        "for i in range(9):\n",
        "  cv2.line(board_copy,(0,int(board_copy.shape[0]/9*i+board_copy.shape[0]/18)),(board_copy.shape[1],int(board_copy.shape[0]/9*i+board_copy.shape[0]/18)),(0,0,255),3)\n",
        "  cv2.line(board_copy,(int(board_copy.shape[1]/9*i+board_copy.shape[1]/18),0),(int(board_copy.shape[1]/9*i+board_copy.shape[1]/18),board_copy.shape[0]),(0,0,255),3)\n",
        "i=0\n",
        "for c in rectangles:\n",
        "  x,y,w,h=c\n",
        "  cv2.rectangle(board_copy, (x, y), (x + w, y + h), (255,0,0), 1)\n",
        "  cv2.putText(board_copy, str(i), (x,y+20),cv2.FONT_HERSHEY_SIMPLEX,1,(0,255,0),2,cv2.LINE_AA)\n",
        "  i+=1\n",
        "cv2_imshow(board_copy)\n",
        "\n",
        "# for cell in cells:\n",
        "#   cv2_imshow(cell)"
      ],
      "metadata": {
        "id": "y4yeBdSWUCgb"
      },
      "execution_count": null,
      "outputs": []
    },
    {
      "cell_type": "code",
      "source": [
        "cells_gray=[cv2.cvtColor(cell, cv2.COLOR_BGR2GRAY) for cell in cells]\n",
        "# for cell in cells:\n",
        "\n",
        "# cells_resizeds=[cv2.resize(gray,(28,28)) for gray in cells_gray]\n",
        "# cells_resizeds=[cv2.threshold(resized,127,255,cv2.THRESH_BINARY_INV)[1]/255 for resized in cells_resizeds]"
      ],
      "metadata": {
        "id": "dicPk5Sk3FwN"
      },
      "execution_count": null,
      "outputs": []
    },
    {
      "cell_type": "code",
      "source": [
        "# pytesseract.pytesseract.tesseract_cmd = '/usr/local/bin/pytesseract'\n",
        "for i in range(81):\n",
        "  cell=cells[i]\n",
        "  cv2_imshow(cell)\n",
        "  # gray=cv2.cvtColor(cell, cv2.COLOR_BGR2GRAY)\n",
        "  # (thresh, bw_img) = cv2.threshold(gray, 128, 255, cv2.THRESH_BINARY | cv2.THRESH_OTSU)\n",
        "  cell_BGR = cv2.cvtColor(cell, cv2.COLOR_BGR2RGB)\n",
        "  im_pil = Image.fromarray(cell_BGR)\n",
        "  cell_text = get_cell_content(cell)\n",
        "  print(\"num:\" + str(cell_text))"
      ],
      "metadata": {
        "id": "IKZUQ2l43dsQ"
      },
      "execution_count": null,
      "outputs": []
    }
  ]
}