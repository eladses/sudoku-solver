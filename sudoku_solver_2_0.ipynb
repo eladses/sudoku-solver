{
  "nbformat": 4,
  "nbformat_minor": 0,
  "metadata": {
    "colab": {
      "provenance": [],
      "toc_visible": true,
      "authorship_tag": "ABX9TyOm7k5huxoCwjf5tNuO4kSq",
      "include_colab_link": true
    },
    "kernelspec": {
      "name": "python3",
      "display_name": "Python 3"
    },
    "language_info": {
      "name": "python"
    }
  },
  "cells": [
    {
      "cell_type": "markdown",
      "metadata": {
        "id": "view-in-github",
        "colab_type": "text"
      },
      "source": [
        "<a href=\"https://colab.research.google.com/github/eladses/sudoku-solver/blob/main/sudoku_solver_2_0.ipynb\" target=\"_parent\"><img src=\"https://colab.research.google.com/assets/colab-badge.svg\" alt=\"Open In Colab\"/></a>"
      ]
    },
    {
      "cell_type": "markdown",
      "source": [
        "# Introduction\n",
        "\n",
        "**in development!! not done**\n",
        "\n",
        "sudoku solver using openCV, pytesseract and py-sudoku to find solution of sudoku from image\n",
        "\n",
        "---\n",
        "\n",
        "**How To Use**\n",
        "\n",
        "1. upload image\n",
        "2. run imports\n",
        "3. run algorethms\n",
        "\n",
        "---\n",
        "\n",
        "**How It Works**\n",
        "\n",
        "1. extraction board\n",
        "  1. finding biggest square\n",
        "  2. bla bla\n",
        "2. filtering cells\n",
        "  1. bla bla\n",
        "  2. more bla\n"
      ],
      "metadata": {
        "id": "qx6NrSbm7rWy"
      }
    },
    {
      "cell_type": "markdown",
      "source": [
        "# Upload"
      ],
      "metadata": {
        "id": "JrTGRPGNB-5t"
      }
    },
    {
      "cell_type": "code",
      "source": [
        "sudoku_url = 'https://www.google.com/search?q=sudoku+from+newspaper&sca_esv=abf976e12d8dcb8e&sca_upv=1&udm=2&biw=1920&bih=911&sxsrf=ADLYWIKsYXvSNuKkCf2_JK5OwxPZg1t-lg%3A1715267377075&ei=Mec8Zu6gBOz1i-gPiPCJuAY&oq=sudoku+from+&gs_lp=Egxnd3Mtd2l6LXNlcnAiDHN1ZG9rdSBmcm9tICoCCAAyBRAAGIAEMgcQABiABBgYMgcQABiABBgYSOcvUJ0UWNAkcAF4AJABAJgBggGgAZoLqgEEMC4xMrgBA8gBAPgBAZgCDaACvwvCAgQQIxgnwgIKEAAYgAQYQxiKBcICDhAAGIAEGLEDGIMBGIoFwgIIEAAYgAQYsQOYAwCIBgGSBwQxLjEyoAe-Ow&sclient=gws-wiz-serp#vhid=1C_w0RtkfCNCuM&vssid=mosaic'"
      ],
      "metadata": {
        "id": "hwingBiGCDX7"
      },
      "execution_count": null,
      "outputs": []
    },
    {
      "cell_type": "markdown",
      "source": [
        "# Imports"
      ],
      "metadata": {
        "id": "uJBffQIDAFdz"
      }
    },
    {
      "cell_type": "code",
      "execution_count": 2,
      "metadata": {
        "id": "XCdk-SUr7Fzw",
        "colab": {
          "base_uri": "https://localhost:8080/"
        },
        "outputId": "2d440cda-3595-4c84-a7ff-e9b5b1c98abc"
      },
      "outputs": [
        {
          "output_type": "stream",
          "name": "stdout",
          "text": [
            "Reading package lists... Done\n",
            "Building dependency tree... Done\n",
            "Reading state information... Done\n",
            "The following additional packages will be installed:\n",
            "  tesseract-ocr-eng tesseract-ocr-osd\n",
            "The following NEW packages will be installed:\n",
            "  tesseract-ocr tesseract-ocr-eng tesseract-ocr-osd\n",
            "0 upgraded, 3 newly installed, 0 to remove and 45 not upgraded.\n",
            "Need to get 4,816 kB of archives.\n",
            "After this operation, 15.6 MB of additional disk space will be used.\n",
            "Get:1 http://archive.ubuntu.com/ubuntu jammy/universe amd64 tesseract-ocr-eng all 1:4.00~git30-7274cfa-1.1 [1,591 kB]\n",
            "Get:2 http://archive.ubuntu.com/ubuntu jammy/universe amd64 tesseract-ocr-osd all 1:4.00~git30-7274cfa-1.1 [2,990 kB]\n",
            "Get:3 http://archive.ubuntu.com/ubuntu jammy/universe amd64 tesseract-ocr amd64 4.1.1-2.1build1 [236 kB]\n",
            "Fetched 4,816 kB in 1s (5,455 kB/s)\n",
            "debconf: unable to initialize frontend: Dialog\n",
            "debconf: (No usable dialog-like program is installed, so the dialog based frontend cannot be used. at /usr/share/perl5/Debconf/FrontEnd/Dialog.pm line 78, <> line 3.)\n",
            "debconf: falling back to frontend: Readline\n",
            "debconf: unable to initialize frontend: Readline\n",
            "debconf: (This frontend requires a controlling tty.)\n",
            "debconf: falling back to frontend: Teletype\n",
            "dpkg-preconfigure: unable to re-open stdin: \n",
            "Selecting previously unselected package tesseract-ocr-eng.\n",
            "(Reading database ... 121918 files and directories currently installed.)\n",
            "Preparing to unpack .../tesseract-ocr-eng_1%3a4.00~git30-7274cfa-1.1_all.deb ...\n",
            "Unpacking tesseract-ocr-eng (1:4.00~git30-7274cfa-1.1) ...\n",
            "Selecting previously unselected package tesseract-ocr-osd.\n",
            "Preparing to unpack .../tesseract-ocr-osd_1%3a4.00~git30-7274cfa-1.1_all.deb ...\n",
            "Unpacking tesseract-ocr-osd (1:4.00~git30-7274cfa-1.1) ...\n",
            "Selecting previously unselected package tesseract-ocr.\n",
            "Preparing to unpack .../tesseract-ocr_4.1.1-2.1build1_amd64.deb ...\n",
            "Unpacking tesseract-ocr (4.1.1-2.1build1) ...\n",
            "Setting up tesseract-ocr-eng (1:4.00~git30-7274cfa-1.1) ...\n",
            "Setting up tesseract-ocr-osd (1:4.00~git30-7274cfa-1.1) ...\n",
            "Setting up tesseract-ocr (4.1.1-2.1build1) ...\n",
            "Processing triggers for man-db (2.10.2-1) ...\n",
            "Collecting pytesseract\n",
            "  Downloading pytesseract-0.3.10-py3-none-any.whl (14 kB)\n",
            "Requirement already satisfied: packaging>=21.3 in /usr/local/lib/python3.10/dist-packages (from pytesseract) (24.0)\n",
            "Requirement already satisfied: Pillow>=8.0.0 in /usr/local/lib/python3.10/dist-packages (from pytesseract) (9.4.0)\n",
            "Installing collected packages: pytesseract\n",
            "Successfully installed pytesseract-0.3.10\n",
            "Collecting py-sudoku\n",
            "  Downloading py_sudoku-1.0.3-py3-none-any.whl (7.1 kB)\n",
            "Installing collected packages: py-sudoku\n",
            "Successfully installed py-sudoku-1.0.3\n",
            "Requirement already satisfied: opencv-python in /usr/local/lib/python3.10/dist-packages (4.8.0.76)\n",
            "Requirement already satisfied: numpy>=1.21.2 in /usr/local/lib/python3.10/dist-packages (from opencv-python) (1.25.2)\n"
          ]
        }
      ],
      "source": [
        "!sudo apt install tesseract-ocr\n",
        "!pip install pytesseract\n",
        "!pip install py-sudoku\n",
        "!pip install opencv-python"
      ]
    },
    {
      "cell_type": "code",
      "source": [
        "from sudoku import Sudoku\n",
        "\n",
        "import pytesseract\n",
        "# pytesseract.pytesseract.tesseract_cmd = (\n",
        "#     r'/usr/bin/tesseract'\n",
        "# )\n",
        "\n",
        "from PIL import Image\n",
        "\n",
        "import numpy as np\n",
        "\n",
        "from imutils import contours\n",
        "import cv2\n",
        "from google.colab.patches import cv2_imshow\n",
        "\n",
        "from tensorflow import keras\n",
        "import matplotlib.pyplot as plt\n",
        "\n",
        "\n",
        "# from PIL import Image"
      ],
      "metadata": {
        "id": "jVZ_JssPAZwh"
      },
      "execution_count": 3,
      "outputs": []
    },
    {
      "cell_type": "markdown",
      "source": [
        "# computer vision functions"
      ],
      "metadata": {
        "id": "p-Dh6a0FAk8Y"
      }
    },
    {
      "cell_type": "code",
      "source": [
        "def get_board(img):\n",
        "    \"\"\"corpes the board from image\n",
        "\n",
        "    Args:\n",
        "      img (cv2 image format) - the image of the sudocu\n",
        "\n",
        "    Returns:\n",
        "      board_img (cv2 image format) - the board corped for the image\n",
        "    \"\"\"\n",
        "    gray=cv2.cvtColor(img, cv2.COLOR_BGR2GRAY )\n",
        "    ret,thresh = cv2.threshold(gray,100,255,cv2.THRESH_BINARY_INV)\n",
        "    contours, hierarchy = cv2.findContours(thresh, cv2.RETR_TREE, cv2.CHAIN_APPROX_NONE)\n",
        "    page = sorted(contours, key=cv2.contourArea, reverse=True)[:5]\n",
        "\n",
        "    if len(contours) != 0:\n",
        "\n",
        "        # find the biggest countour (c) by the area\n",
        "        c = max(contours, key = cv2.contourArea)\n",
        "        epsilon = 0.1 * cv2.arcLength(c, True)\n",
        "        corners = cv2.approxPolyDP(c, epsilon, True)\n",
        "        # If our approximated contour has four points\n",
        "        # draw the biggest contour (c) in green\n",
        "\n",
        "\n",
        "    def order_points(pts):\n",
        "        '''Rearrange coordinates to order:\n",
        "          top-left, top-right, bottom-right, bottom-left'''\n",
        "        rect = np.zeros((4, 2), dtype='float32')\n",
        "        pts = np.array(pts)\n",
        "        s = pts.sum(axis=1)\n",
        "        # Top-left point will have the smallest sum.\n",
        "        rect[0] = pts[np.argmin(s)]\n",
        "        # Bottom-right point will have the largest sum.\n",
        "        rect[2] = pts[np.argmax(s)]\n",
        "\n",
        "        diff = np.diff(pts, axis=1)\n",
        "        # Top-right point will have the smallest difference.\n",
        "        rect[3] = pts[np.argmin(diff)]\n",
        "        # Bottom-left will have the largest difference.\n",
        "        rect[1] = pts[np.argmax(diff)]\n",
        "        # return the ordered coordinates\n",
        "        return rect.astype('int').tolist()\n",
        "\n",
        "\n",
        "    pt_A,pt_B,pt_C,pt_D=order_points([corners[0][0],corners[1][0],corners[2][0],corners[3][0]])\n",
        "\n",
        "    # Here, I have used L2 norm. You can use L1 also.\n",
        "    width_AD = np.sqrt(((pt_A[0] - pt_D[0]) ** 2) + ((pt_A[1] - pt_D[1]) ** 2))\n",
        "    width_BC = np.sqrt(((pt_B[0] - pt_C[0]) ** 2) + ((pt_B[1] - pt_C[1]) ** 2))\n",
        "    maxWidth = max(int(width_AD), int(width_BC))\n",
        "\n",
        "\n",
        "    height_AB = np.sqrt(((pt_A[0] - pt_B[0]) ** 2) + ((pt_A[1] - pt_B[1]) ** 2))\n",
        "    height_CD = np.sqrt(((pt_C[0] - pt_D[0]) ** 2) + ((pt_C[1] - pt_D[1]) ** 2))\n",
        "    maxHeight = max(int(height_AB), int(height_CD))\n",
        "\n",
        "    input_pts = np.float32([pt_A, pt_B, pt_C, pt_D])\n",
        "    output_pts = np.float32([[0, 0],\n",
        "                            [0, maxHeight - 1],\n",
        "                            [maxWidth - 1, maxHeight - 1],\n",
        "                            [maxWidth - 1, 0]])\n",
        "\n",
        "    # Getting the homography.\n",
        "    M = cv2.getPerspectiveTransform(input_pts,output_pts)\n",
        "\n",
        "    return cv2.warpPerspective(img,M,(maxWidth, maxHeight),flags=cv2.INTER_LINEAR)"
      ],
      "metadata": {
        "id": "4UCwsU4aA0Th"
      },
      "execution_count": null,
      "outputs": []
    },
    {
      "cell_type": "code",
      "source": [
        "def remove_small_contours(img,small_area=1000):\n",
        "  \"\"\"this founction remove small countours from the image. used to remove the numbers\n",
        "\n",
        "  Args:\n",
        "    img (cv2 image format)\n",
        "\n",
        "  Returns:\n",
        "    img (cv2 image format)\n",
        "  \"\"\"\n",
        "\n",
        "  mask = np.zeros(img.shape[:2], dtype=img.dtype)\n",
        "  cnts, _ = cv2.findContours(img, cv2.RETR_EXTERNAL, cv2.CHAIN_APPROX_NONE)\n",
        "  for c in cnts:\n",
        "      area = cv2.contourArea(c)\n",
        "      if area > small_area:\n",
        "        x, y, w, h = cv2.boundingRect(c)\n",
        "        cv2.drawContours(mask, [c], 0, (255), -1)\n",
        "\n",
        "  return cv2.bitwise_and(img,img, mask= mask)\n",
        "\n",
        "\n",
        "def get_cells(board_img):\n",
        "    \"\"\"corpes the cells from the board\n",
        "\n",
        "    Args:\n",
        "      board_img (cv2 image format) - board\n",
        "\n",
        "    Returns:\n",
        "      board_img (cv2 image format) - the board corped for the image\n",
        "    \"\"\"\n",
        "\n",
        "    filter=cv2.imread(\"filter4.jpg\")\n",
        "    print(filter.shape)\n",
        "    kernel=filter/np.sum(filter)\n",
        "\n",
        "    gray = cv2.cvtColor(board, cv2.COLOR_BGR2GRAY)\n",
        "    thresh = cv2.adaptiveThreshold(gray,255,cv2.ADAPTIVE_THRESH_GAUSSIAN_C, cv2.THRESH_BINARY_INV,57,5)\n",
        "    cv2_imshow(thresh)\n",
        "\n",
        "    dst_ver =cv2.filter2D(thresh,-1,cv2.transpose(kernel))\n",
        "    dst_hor =cv2.filter2D(thresh,-1,kernel)\n",
        "\n",
        "    _,thresh_ver = cv2.threshold(dst_ver,30,255,cv2.THRESH_BINARY)\n",
        "    _,thresh_hor = cv2.threshold(dst_hor,30,255,cv2.THRESH_BINARY)\n",
        "\n",
        "\n",
        "    ver_lines=remove_small_contours(thresh_ver)\n",
        "    hor_lines=remove_small_contours(thresh_hor)\n",
        "\n",
        "    board_lines=np.maximum(ver_lines,hor_lines)\n",
        "    cv2_imshow(thresh_hor)\n",
        "    print('')\n",
        "    cv2_imshow(hor_lines)\n",
        "    cv2_imshow(board_lines)\n",
        "\n",
        "    invert = 255 - board_lines\n",
        "    cv2_imshow(invert)\n",
        "    cnts,_ = cv2.findContours(invert, cv2.RETR_TREE, cv2.CHAIN_APPROX_SIMPLE)\n",
        "    # (cnts, _) = contours.sort_contours(cnts, method=\"top-to-bottom\")\n",
        "\n",
        "    newBoard = board.copy()\n",
        "    rectangles=[]\n",
        "    for c in cnts:\n",
        "      if(cv2.contourArea(c)<0**2): continue\n",
        "      # print(cv2.boundingRect(c))\n",
        "      rectangles.append(cv2.boundingRect(c))\n",
        "      x,y,w,h = cv2.boundingRect(c)\n",
        "    print(len(rectangles))\n",
        "    # for rectangle in rectangles:\n",
        "    #   cv2_imshow(board[rectangle[0]:(rectangle[0] + rectangle[2]),rectangle[1]:(rectangle[1]+ rectangle[3])])\n",
        "\n",
        "    a,b,_=board_img.shape\n",
        "\n",
        "    rectangles = sorted(rectangles, key=lambda x: int(x[0]/a*9)/100+int(x[1]/b*9), reverse=False)\n",
        "    i=0\n",
        "    for c in rectangles:\n",
        "      x,y,w,h=c\n",
        "      cv2.rectangle(newBoard, (x, y), (x + w, y + h), (255,0,0), 1)\n",
        "      cv2.putText(newBoard, str(i), (x,y+h),cv2.FONT_HERSHEY_SIMPLEX,1,(0,255,0),2,cv2.LINE_AA)\n",
        "      i+=1\n",
        "\n",
        "    cv2_imshow(newBoard)\n",
        "\n",
        "    return rectangles\n",
        "\n",
        "\n"
      ],
      "metadata": {
        "id": "qRVMMULeUZr0"
      },
      "execution_count": null,
      "outputs": []
    },
    {
      "cell_type": "markdown",
      "metadata": {
        "id": "_TJ8cpaVMB18"
      },
      "source": [
        "# sudoku functions"
      ]
    },
    {
      "cell_type": "code",
      "execution_count": 11,
      "metadata": {
        "id": "pzqG_v_XI7k8"
      },
      "outputs": [],
      "source": [
        "puzzle = Sudoku(3).difficulty(0.5)\n",
        "def load_sudoku(board):\n",
        "  return Sudoku(3, 3, board=board)\n",
        "def solve_sudoku(sudoku):\n",
        "  return puzzle.solve()"
      ]
    },
    {
      "cell_type": "code",
      "execution_count": 12,
      "metadata": {
        "colab": {
          "base_uri": "https://localhost:8080/"
        },
        "id": "-3WdjjEcI9b2",
        "outputId": "70fadb87-c132-4d6d-8ee8-5473a3496fa4"
      },
      "outputs": [
        {
          "output_type": "stream",
          "name": "stdout",
          "text": [
            "[[None, 7, 9, 2, None, 4, None, None, None], [None, 1, 8, 3, None, 6, None, None, 2], [2, None, None, None, 8, None, 5, 6, None], [None, None, None, 9, 2, 7, None, 4, 6], [7, 3, None, 4, None, None, None, 2, 8], [4, None, None, 6, 3, None, None, 5, None], [3, 2, 4, 8, None, 1, None, None, 5], [None, None, 7, None, None, 2, 1, None, 9], [None, None, None, None, 6, 3, None, 8, 4]]\n",
            "[[6, 7, 9, 2, 5, 4, 8, 1, 3], [5, 1, 8, 3, 7, 6, 4, 9, 2], [2, 4, 3, 1, 8, 9, 5, 6, 7], [1, 8, 5, 9, 2, 7, 3, 4, 6], [7, 3, 6, 4, 1, 5, 9, 2, 8], [4, 9, 2, 6, 3, 8, 7, 5, 1], [3, 2, 4, 8, 9, 1, 6, 7, 5], [8, 6, 7, 5, 4, 2, 1, 3, 9], [9, 5, 1, 7, 6, 3, 2, 8, 4]]\n"
          ]
        }
      ],
      "source": [
        "game = load_sudoku(puzzle.board)\n",
        "print(game.board)\n",
        "print(solve_sudoku(game).board)"
      ]
    }
  ]
}